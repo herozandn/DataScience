{
 "cells": [
  {
   "cell_type": "code",
   "execution_count": 18,
   "id": "06517a38-d033-4ac6-8c9b-51f31378f049",
   "metadata": {
    "tags": []
   },
   "outputs": [],
   "source": [
    "import pandas as pd\n",
    "import matplotlib.pyplot as mpl\n",
    "import os"
   ]
  },
  {
   "cell_type": "code",
   "execution_count": 13,
   "id": "3c037e92-a841-4f7a-ab32-b11680358180",
   "metadata": {
    "tags": []
   },
   "outputs": [],
   "source": [
    "df21 = pd.read_html('https://www.espn.com.br/nba/estatisticas/time/_/temporada/2022/tipodetemporada/2')\n",
    "df20 = pd.read_html('https://www.espn.com.br/nba/estatisticas/time/_/temporada/2021/tipodetemporada/2')\n",
    "df19 = pd.read_html('https://www.espn.com.br/nba/estatisticas/time/_/temporada/2020/tipodetemporada/2')\n",
    "df18 = pd.read_html('https://www.espn.com.br/nba/estatisticas/time/_/temporada/2019/tipodetemporada/2')\n",
    "df17 = pd.read_html('https://www.espn.com.br/nba/estatisticas/time/_/temporada/2018/tipodetemporada/2')\n",
    "df16 = pd.read_html('https://www.espn.com.br/nba/estatisticas/time/_/temporada/2017/tipodetemporada/2')\n",
    "df15 = pd.read_html('https://www.espn.com.br/nba/estatisticas/time/_/temporada/2016/tipodetemporada/2')\n",
    "df14 = pd.read_html('https://www.espn.com.br/nba/estatisticas/time/_/temporada/2015/tipodetemporada/2')\n",
    "df13 = pd.read_html('https://www.espn.com.br/nba/estatisticas/time/_/temporada/2014/tipodetemporada/2')\n",
    "df12 = pd.read_html('https://www.espn.com.br/nba/estatisticas/time/_/temporada/2013/tipodetemporada/2')\n",
    "df11 = pd.read_html('https://www.espn.com.br/nba/estatisticas/time/_/temporada/2012/tipodetemporada/2')\n",
    "df10 = pd.read_html('https://www.espn.com.br/nba/estatisticas/time/_/temporada/2011/tipodetemporada/2')\n",
    "df09 = pd.read_html('https://www.espn.com.br/nba/estatisticas/time/_/temporada/2010/tipodetemporada/2')\n",
    "df08 = pd.read_html('https://www.espn.com.br/nba/estatisticas/time/_/temporada/2009/tipodetemporada/2')\n",
    "df07 = pd.read_html('https://www.espn.com.br/nba/estatisticas/time/_/temporada/2008/tipodetemporada/2')\n",
    "df06 = pd.read_html('https://www.espn.com.br/nba/estatisticas/time/_/temporada/2007/tipodetemporada/2')\n",
    "df05 = pd.read_html('https://www.espn.com.br/nba/estatisticas/time/_/temporada/2006/tipodetemporada/2')\n",
    "df04 = pd.read_html('https://www.espn.com.br/nba/estatisticas/time/_/temporada/2005/tipodetemporada/2')\n",
    "df03 = pd.read_html('https://www.espn.com.br/nba/estatisticas/time/_/temporada/2004/tipodetemporada/2')\n",
    "df02 = pd.read_html('https://www.espn.com.br/nba/estatisticas/time/_/temporada/2003/tipodetemporada/2')\n",
    "df01 = pd.read_html('https://www.espn.com.br/nba/estatisticas/time/_/temporada/2002/tipodetemporada/2')"
   ]
  },
  {
   "cell_type": "code",
   "execution_count": 14,
   "id": "8a02ac46-bf9e-433a-a548-8e8bde8715d6",
   "metadata": {
    "tags": []
   },
   "outputs": [],
   "source": [
    "dfs01 = df01[1]\n",
    "dfs02 = df02[1]\n",
    "dfs03 = df03[1]\n",
    "dfs04 = df04[1]\n",
    "dfs05 = df05[1]\n",
    "dfs06 = df06[1]\n",
    "dfs07 = df07[1]\n",
    "dfs08 = df08[1]\n",
    "dfs09 = df09[1]\n",
    "dfs10 = df10[1]\n",
    "dfs11 = df11[1]\n",
    "dfs12 = df12[1]\n",
    "dfs13 = df13[1]\n",
    "dfs14 = df14[1]\n",
    "dfs15 = df15[1]\n",
    "dfs16 = df16[1]\n",
    "dfs17 = df17[1]\n",
    "dfs18 = df18[1]\n",
    "dfs19 = df19[1]\n",
    "dfs20 = df20[1]\n",
    "dfs21 = df21[1]"
   ]
  },
  {
   "cell_type": "code",
   "execution_count": 21,
   "id": "dea4b020-ec30-4caa-8f81-263d10d37808",
   "metadata": {
    "tags": []
   },
   "outputs": [],
   "source": [
    "dataframes = [dfs01, dfs02, dfs03, dfs04, dfs05, dfs06, dfs07, dfs08, dfs09, dfs10, dfs11, dfs12, dfs13, dfs14, dfs15, dfs16, dfs17, dfs18, dfs19, dfs20, dfs21]\n",
    "\n",
    "nome_arquivo = 'nba.xlsx'\n",
    "\n",
    "if os.path.exists(nome_arquivo):\n",
    "    with pd.ExcelWriter(nome_arquivo, engine='openpyxl', mode='a') as writer:\n",
    "        for i, df in enumerate(dataframes, start=1):\n",
    "            sheet_name = f'Temporada 20{i}'\n",
    "            df.to_excel(writer, sheet_name=sheet_name, index=False)\n",
    "else:\n",
    "    with pd.ExcelWriter(nome_arquivo, engine='openpyxl') as writer:\n",
    "        for i, df in enumerate(dataframes, start=1):\n",
    "            sheet_name = f'Temporada 20{i}'\n",
    "            df.to_excel(writer, sheet_name=sheet_name, index=False)"
   ]
  },
  {
   "cell_type": "markdown",
   "id": "41cbb406-924e-4277-a231-342d702c2b45",
   "metadata": {},
   "source": [
    "# Tirando a média de 3PM, 3PA, 3PM, FGM, FGA e FG%"
   ]
  },
  {
   "cell_type": "code",
   "execution_count": 23,
   "id": "7055ad86-fd44-4cdd-913e-3ec6f71f86d0",
   "metadata": {
    "tags": []
   },
   "outputs": [],
   "source": [
    "tabela = pd.ExcelFile('nba.xlsx')"
   ]
  },
  {
   "cell_type": "code",
   "execution_count": 26,
   "id": "a55f9599-65ec-496a-85f5-6ec59ffdd61c",
   "metadata": {
    "tags": []
   },
   "outputs": [],
   "source": [
    "medias_3p = []\n",
    "medias_3pa = []\n",
    "medias_3pm = []\n",
    "medias_fgm = []\n",
    "medias_fga = []\n",
    "medias_fg = []"
   ]
  },
  {
   "cell_type": "code",
   "execution_count": 27,
   "id": "55441a44-bda7-4253-9737-a0744f5564cf",
   "metadata": {
    "tags": []
   },
   "outputs": [],
   "source": [
    "#média da coluna 3P%\\n\",\n",
    "for aba in tabela.sheet_names:\n",
    "    df = pd.read_excel(tabela, aba)\n",
    "    media = df['3P%'].mean()\n",
    "    medias_3p.append(media)"
   ]
  }
 ],
 "metadata": {
  "kernelspec": {
   "display_name": "Python 3 (ipykernel)",
   "language": "python",
   "name": "python3"
  },
  "language_info": {
   "codemirror_mode": {
    "name": "ipython",
    "version": 3
   },
   "file_extension": ".py",
   "mimetype": "text/x-python",
   "name": "python",
   "nbconvert_exporter": "python",
   "pygments_lexer": "ipython3",
   "version": "3.11.5"
  }
 },
 "nbformat": 4,
 "nbformat_minor": 5
}
